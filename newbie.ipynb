{
 "cells": [
  {
   "cell_type": "code",
   "execution_count": 1,
   "metadata": {},
   "outputs": [],
   "source": [
    "import netgen.meshing as meshing\n",
    "from netgen.occ import *\n",
    "from netgen.csg import *\n",
    "from math import pi\n",
    "from ngsolve import *\n",
    "from ngsolve.webgui import Draw\n",
    "from mpi4py import MPI"
   ]
  },
  {
   "cell_type": "code",
   "execution_count": 3,
   "metadata": {},
   "outputs": [
    {
     "name": "stdout",
     "output_type": "stream",
     "text": [
      "copy matrix non-symmetric\n",
      "analysis ... factor ...  done \n"
     ]
    },
    {
     "data": {
      "text/plain": [
       "<netgen.webgui.WebGLScene at 0x7fce8d4bb8f0>"
      ]
     },
     "execution_count": 3,
     "metadata": {},
     "output_type": "execute_result"
    }
   ],
   "source": [
    "from ngsolve import *\n",
    "from ngsolve.webgui import Draw\n",
    "from mpi4py import MPI\n",
    "mesh = Mesh(unit_square.GenerateMesh(maxh=0.2))\n",
    "fes = H1(mesh, order=2, dirichlet=\"bottom|right\")\n",
    "u = fes.TrialFunction()  # symbolic object\n",
    "v = fes.TestFunction()   # symbolic object\n",
    "gfu = GridFunction(fes)  # solution\n",
    "u, v = fes.TnT()\n",
    "\n",
    "a = BilinearForm(grad(u)*grad(v)*dx).Assemble()\n",
    "f = LinearForm(x*v*dx).Assemble()\n",
    "\n",
    "# a = BilinearForm(fes)\n",
    "# a += grad(u)*grad(v)*dx\n",
    "# a.Assemble()\n",
    "\n",
    "# f = LinearForm(fes)\n",
    "# f += x*v*dx\n",
    "# f.Assemble()\n",
    "\n",
    "gfu.vec.data = a.mat.Inverse(freedofs=fes.FreeDofs()) * f.vec\n",
    "Draw(gfu, height='400px')\n"
   ]
  },
  {
   "cell_type": "code",
   "execution_count": 4,
   "metadata": {},
   "outputs": [
    {
     "data": {
      "text/plain": [
       "<netgen.webgui.WebGLScene at 0x7f17edf55760>"
      ]
     },
     "execution_count": 4,
     "metadata": {},
     "output_type": "execute_result"
    }
   ],
   "source": [
    "import netgen.geom2d as geom2d\n",
    "import ngsolve as ngs\n",
    "geo = geom2d.SplineGeometry()\n",
    "p1 = geo.AppendPoint (-0.85, 0)\n",
    "p2 = geo.AppendPoint (-0.85, -0.45)\n",
    "p3 = geo.AppendPoint (0, -0.45)\n",
    "p4 = geo.AppendPoint (0.85, -0.45)\n",
    "p5 = geo.AppendPoint (0.85, 0)\n",
    "p6 = geo.AppendPoint (0.85, 0.45)\n",
    "p7 = geo.AppendPoint (0, 0.45)\n",
    "p8 = geo.AppendPoint (-0.85, 0.45)\n",
    "geo.Append([\"spline3\", p1, p2, p3], bc = \"circle\")\n",
    "geo.Append([\"spline3\", p3, p4, p5], bc = \"circle\")\n",
    "geo.Append([\"spline3\", p5, p6, p7], bc = \"circle\")\n",
    "geo.Append([\"spline3\", p7, p8, p1], bc = \"circle\")\n",
    "\n",
    "mesh = geo.GenerateMesh(maxh=1/48)\n",
    "\n",
    "Draw (mesh, height='400px')"
   ]
  }
 ],
 "metadata": {
  "kernelspec": {
   "display_name": "Python 3",
   "language": "python",
   "name": "python3"
  },
  "language_info": {
   "codemirror_mode": {
    "name": "ipython",
    "version": 3
   },
   "file_extension": ".py",
   "mimetype": "text/x-python",
   "name": "python",
   "nbconvert_exporter": "python",
   "pygments_lexer": "ipython3",
   "version": "3.12.7"
  }
 },
 "nbformat": 4,
 "nbformat_minor": 2
}
